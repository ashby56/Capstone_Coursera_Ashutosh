{
    "cells": [
        {
            "cell_type": "markdown",
            "metadata": {
                "collapsed": true
            },
            "source": "# 1. Introduction Section:\n\n## Discussion of the business problem and the audience who would be interested in this project.\n\n### Description of the Problem and Background\n\nScenario:\nI am a data scientist residing in India. I have been offered a great opportunity to work for a leader firm in Manhattan, NY. I am very excited and I want to use this opportunity to practice my learnings in Coursera in order to answer relevant questions arisen. The key question is : How can I find a convenient and enjoyable place similar to mine now in Singapore? Certainly, I can use available real estate apps and Google but the idea is to use and apply myself the learned tools during the course. In order to make a comparison and evaluation of the rental options in Manhattan NY, I must set some basis, therefore the apartment in Manhattan must meet the following demands:\n\n1. Apartment must be 2 or 3 bedrooms\n2. Desired location is near a metro station in the Manhattan area and within 1.0 mile (1.6 km) radius\n3. Price of rent not exceed $7,000 per month\n4. Top ammenities in the selected neighborhood shall be similar to current residence\n5. Desirable to have venues such as coffee shops, restaurants Asian Thai, wine stores, gym and food shops\n\n\n## Business Problem:\n\nThe challenge is to find a suitable apartment for rent in Manhattan NY that complies with the demands on location, price and venues. The data required to resolve this challenge is described in the following section 2, below.\n\n## Interested Audience\nThis is a common relevant challenge with valid asks for anyone moving to other large city in US, EU or Asia. The same methodology can be applied to other countries as well. This case is also applicable for anyone interested in exploring starting or locating a new business in any city. Lastly, it can also serve as a good practical exercise to develop Data Science skills."
        },
        {
            "cell_type": "markdown",
            "metadata": {},
            "source": "# 2. Data Section:\n\n## Description of the data and its sources that will be used to solve the problem\n\n### Description of the Data:\n\nThe following data is required to answer the issues of the problem:\n\n1. List of Boroughs and neighborhoods of Manhattan with their geodata (latitud and longitud)\n2. List of Subway metro stations in Manhattan with their address location\n3. List of apartments for rent in Manhattan area with their addresses and price\n4. A list of apartment for rent with additional information, such as price, address, area, # of beds, etc\n5. Venues for each Manhattan neighborhood ( than can be clustered)\n6. Venues for subway metro stations, as needed\n7. How the data will be used to solve the problem\n\nThe data will be used as follows:\n\na. Use Foursquare and geopy data to map top 10 venues for all Manhattan neighborhoods and clustered in groups ( as per Course LAB)\nb. Use foursquare and geopy data to map the location of subway metro stations , separately and on top of the above clustered map in order to be able to identify the venues and ammenities near each metro station, or explore each subway location separately\nc. Use Foursquare and geopy data to map the location of rental places, in some form, linked to the subway locations.\nd. create a map that depicts, for instance, the average rental price per square ft, around a radious of 1.0 mile (1.6 km) around each subway station - or a similar metrics. I will be able to quickly point to the popups to know the relative price per subway area.\ne. Addresses from rental locations will be converted to geodata( lat, long) using Geopy-distance and Nominatim.\n\nData will be searched in open data sources if available, from real estate sites if open to reading, libraries or other government agencies such as Metro New York MTA, etc.\nThe procesing of these DATA will allow to answer the key questions to make a decision:\n\n1. what is the cost of rent (per square ft) around a mile radius from each subway metro station?\n2. what is the area of Manhattan with best rental pricing that meets criteria established?\n3. What is the distance from work place ( Park Ave and 53 rd St) and the tentative future home?\n4. What are the venues of the two best places to live? How the prices compare?\n5. How venues distribute among Manhattan neighborhoods and around metro stations?\n6. Are there tradeoffs between size and price and location?\n7. Any other interesting statistical data findings of the real estate and overall data."
        },
        {
            "cell_type": "code",
            "execution_count": null,
            "metadata": {},
            "outputs": [],
            "source": ""
        }
    ],
    "metadata": {
        "kernelspec": {
            "display_name": "Python 3.6",
            "language": "python",
            "name": "python3"
        },
        "language_info": {
            "codemirror_mode": {
                "name": "ipython",
                "version": 3
            },
            "file_extension": ".py",
            "mimetype": "text/x-python",
            "name": "python",
            "nbconvert_exporter": "python",
            "pygments_lexer": "ipython3",
            "version": "3.6.8"
        }
    },
    "nbformat": 4,
    "nbformat_minor": 1
}